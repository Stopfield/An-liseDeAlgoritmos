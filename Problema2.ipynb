{
 "cells": [
  {
   "cell_type": "markdown",
   "id": "5f338a0a-c251-48b2-becb-73a493f158f7",
   "metadata": {},
   "source": [
    "# Problema 2 - Linha de Produção\n",
    "Esse problema pode ser representado como um **Problema do Caminho Crítico**"
   ]
  },
  {
   "cell_type": "code",
   "execution_count": 29,
   "id": "b516127c-d019-4cd8-9f43-ba2356a06a4c",
   "metadata": {},
   "outputs": [],
   "source": [
    "import networkx as nx\n",
    "import matplotlib.pyplot as plt\n",
    "import sys"
   ]
  },
  {
   "cell_type": "code",
   "execution_count": 30,
   "id": "e386b149-f6ed-4c09-8f03-13b6f4fc4634",
   "metadata": {},
   "outputs": [],
   "source": [
    "# Enumeração Primitiva -- Só facilita a leitura\n",
    "S = 0\n",
    "A = 1\n",
    "B = 2\n",
    "C = 3\n",
    "D = 4\n",
    "E = 5\n",
    "F = 6\n",
    "G_v = 7\n",
    "H = 8\n",
    "I = 9\n",
    "J = 10\n",
    "K = 11\n",
    "L = 12"
   ]
  },
  {
   "cell_type": "code",
   "execution_count": 31,
   "id": "a4809ed4-fdec-4028-a9ca-2d36f70f94d0",
   "metadata": {},
   "outputs": [],
   "source": [
    "# Criando nosso dígrafo ponderado\n",
    "G = nx.DiGraph()\n",
    "G.add_edges_from(\n",
    "    [\n",
    "        (S, C,     {\"weight\": 10}),\n",
    "        (S, A,     {\"weight\": 8}),\n",
    "        (S, D,     {\"weight\": 12}),\n",
    "        (S, B,     {\"weight\": 8}),\n",
    "        (C, E,     {\"weight\": 8}),\n",
    "        (C, F,     {\"weight\": 11}),\n",
    "        (A, E,     {\"weight\": 8}),\n",
    "        (A, F,     {\"weight\": 11}),\n",
    "        (A, G_v,   {\"weight\": 15}),\n",
    "        (D, G_v,   {\"weight\": 15}),\n",
    "        (B, L,     {\"weight\": 7}),\n",
    "        (E, H,     {\"weight\": 9}),\n",
    "        (F, I,     {\"weight\": 7}),\n",
    "        (G_v, J,   {\"weight\": 4}),\n",
    "        (H, J,     {\"weight\": 4}),\n",
    "        (J, K,     {\"weight\": 6}),\n",
    "        (K, L,     {\"weight\": 7}),\n",
    "        (I, K,     {\"weight\": 6}),  \n",
    "    ]\n",
    ")"
   ]
  },
  {
   "cell_type": "markdown",
   "id": "c1b364b4-bd2f-4ee8-bd35-2a0450415b9c",
   "metadata": {},
   "source": [
    "## Calculando o Caminho Crítico e seu peso\n",
    "Vamos usar as funções abaixo que implementam o Dijktra com pesos negativos. O Dijkstra funciona pois o grafo é um Dígrafo Acíclico Ponderado, o que não gera ciclos negativos."
   ]
  },
  {
   "cell_type": "code",
   "execution_count": 44,
   "id": "9193d864-2d16-4de7-b40a-c3e9baaeb072",
   "metadata": {},
   "outputs": [],
   "source": [
    "# Cria um grafo cópia que vai ser entrada de Dijkstra com pesos invertidos\n",
    "G2 = G.copy()\n",
    "\n",
    "# Muda os pesos das aresta do grafo G2 para negativo\n",
    "for u, v, weight in G.edges(data=\"weight\"):\n",
    "    if weight is not None:\n",
    "        G2[u][v][\"weight\"] = -weight"
   ]
  },
  {
   "cell_type": "code",
   "execution_count": 45,
   "id": "6cb96334-acfb-4226-90b7-3a027b452118",
   "metadata": {},
   "outputs": [],
   "source": [
    "maior_caminho = nx.dijkstra_path(G2, S, L) # Usa Dijkstra com pesos invertidos\n",
    "peso_maior_caminho = nx.dag_longest_path_length(G)  # devolve o maior acúmulo de pesos do grafo"
   ]
  },
  {
   "cell_type": "code",
   "execution_count": 46,
   "id": "d7a49067-a965-4ae1-8f32-0930fad848e1",
   "metadata": {},
   "outputs": [
    {
     "name": "stdout",
     "output_type": "stream",
     "text": [
      "S -> D -> G -> J -> K -> L -> FIM\n",
      "Peso do caminho: 44\n"
     ]
    }
   ],
   "source": [
    "# Imprime o caminho mínimo\n",
    "vertices = {\n",
    "    S:   \"S\",\n",
    "    A:   \"A\",\n",
    "    B:   \"B\",\n",
    "    C:   \"C\",\n",
    "    D:   \"D\",\n",
    "    E:   \"E\",\n",
    "    F:   \"F\",\n",
    "    G_v: \"G\",\n",
    "    H:   \"H\",\n",
    "    I:   \"I\",\n",
    "    J:   \"J\",\n",
    "    K:   \"K\",\n",
    "    L:   \"L\",\n",
    "}\n",
    "for v in maior_caminho:\n",
    "    print(f\"{vertices[v]} -> \", end=\"\")      # O S e o FIM são parte da representação\n",
    "print(\"FIM\")\n",
    "print(f\"Peso do caminho: {peso_maior_caminho}\")"
   ]
  },
  {
   "cell_type": "markdown",
   "id": "9a846add-2a08-477a-8101-1a93eb1ccbc5",
   "metadata": {},
   "source": [
    "### O que sabemos até agora\n",
    "Com o caminho de maior peso, também chamado de **caminho crítico**, encontrado acima, podemos definir que os vértices pertencentes a ele são essenciais para o menor tempo de execução, portanto, não podem se dispor a folgas. Assim temos:\n",
    "* O tempo mínimo para realização da atividade é $44$\n",
    "* As tarefas que não podem ter folgas são $D(4), G(7), J(10), K(11), L(12)$\n",
    "\n",
    "Agora vamos encontrar as folgas para cada tarefa restante. Para encontrar essas folgas, calculamos o tempo de cada caminho indo em direção à última tarefa somando os tempos, depois o inverso, subtraindo do tempo crítico encontrado (44). Utilizaremos o algoritmo **BFS** para nos auxiliar. Vamos começar pelo **tempo de ida**, na direção de $S$ até $L$."
   ]
  },
  {
   "cell_type": "code",
   "execution_count": 47,
   "id": "be0ba9a5-a98d-4233-b7ef-00cc736cbe27",
   "metadata": {},
   "outputs": [
    {
     "name": "stdout",
     "output_type": "stream",
     "text": [
      " === Arestas Percorridas no BFS === \n",
      "(S -> C) = 10\n",
      "(S -> A) = 8\n",
      "(S -> D) = 12\n",
      "(S -> B) = 8\n",
      "(C -> E) = 8\n",
      "(C -> F) = 11\n",
      "(A -> E) = 8\n",
      "(A -> F) = 11\n",
      "(A -> G) = 15\n",
      "(D -> G) = 15\n",
      "(B -> L) = 7\n",
      "(E -> H) = 9\n",
      "(F -> I) = 7\n",
      "(G -> J) = 4\n",
      "(H -> J) = 4\n",
      "(I -> K) = 6\n",
      "(J -> K) = 6\n",
      "(K -> L) = 7\n",
      "\n",
      " === Tempos de Ida === \n",
      "S = 0\n",
      "A = 8\n",
      "B = 8\n",
      "C = 10\n",
      "D = 12\n",
      "E = 18\n",
      "F = 21\n",
      "G = 27\n",
      "H = 27\n",
      "I = 28\n",
      "J = 31\n",
      "K = 37\n",
      "L = 44\n"
     ]
    }
   ],
   "source": [
    "tempo_de_ida = [0 for i in range(13)]\n",
    "\n",
    "print(\" === Arestas Percorridas no BFS === \")\n",
    "for edge in nx.edge_bfs(G, S):                                    # BFS da linha 5 + For da linha 6\n",
    "    peso = G.get_edge_data(edge[0], edge[1])[\"weight\"]\n",
    "    soma = tempo_de_ida[edge[0]] + peso\n",
    "    tempo_de_ida[edge[1]] = max(soma, tempo_de_ida[edge[1]])      # W = tempo_de_ida[U] + w(U, W)\n",
    "    print(f\"({vertices[edge[0]]} -> {vertices[edge[1]]}) = {peso}\")\n",
    "\n",
    "print(\"\\n === Tempos de Ida === \")\n",
    "for v in vertices:\n",
    "    print(f\"{vertices[v]} = {tempo_de_ida[v]}\")"
   ]
  },
  {
   "cell_type": "markdown",
   "id": "cf548dee-935f-4bb7-8feb-33eef9892531",
   "metadata": {},
   "source": [
    "Agora veremos o **tempo de volta**! Vamos inverter as arestas do Dígrafo e realizar o processo de subtração para cada vértice, agora na direção $L$ até $S$."
   ]
  },
  {
   "cell_type": "code",
   "execution_count": 48,
   "id": "a519f93c-0f34-41ef-99e4-d7b922179779",
   "metadata": {},
   "outputs": [
    {
     "name": "stdout",
     "output_type": "stream",
     "text": [
      "(L -> B) = 7\tSoma = 37\n",
      "(L -> K) = 7\tSoma = 37\n",
      "(B -> S) = 8\tSoma = 29\n",
      "(K -> I) = 6\tSoma = 31\n",
      "(K -> J) = 6\tSoma = 31\n",
      "(I -> F) = 7\tSoma = 24\n",
      "(J -> G) = 4\tSoma = 27\n",
      "(J -> H) = 4\tSoma = 27\n",
      "(F -> C) = 11\tSoma = 13\n",
      "(F -> A) = 11\tSoma = 13\n",
      "(G -> A) = 15\tSoma = 12\n",
      "(G -> D) = 15\tSoma = 12\n",
      "(H -> E) = 9\tSoma = 18\n",
      "(C -> S) = 10\tSoma = 3\n",
      "(A -> S) = 8\tSoma = 4\n",
      "(D -> S) = 12\tSoma = 0\n",
      "(E -> C) = 8\tSoma = 10\n",
      "(E -> A) = 8\tSoma = 10\n",
      "\n",
      " === Tempos de Volta === \n",
      "S = 0\n",
      "A = 10\n",
      "B = 37\n",
      "C = 10\n",
      "D = 12\n",
      "E = 18\n",
      "F = 24\n",
      "G = 27\n",
      "H = 27\n",
      "I = 31\n",
      "J = 31\n",
      "K = 37\n",
      "L = 44\n"
     ]
    }
   ],
   "source": [
    "G_revertido = G.reverse()                                   # Reverte as arestas Grafo\n",
    "\n",
    "tempo_de_volta = [sys.maxsize for i in range(13)]           # Enche o array com \"infinitos\"\n",
    "tempo_de_volta[L] = tempo_de_ida[L]                         # tempo_de_volta[L] = 44\n",
    "\n",
    "for i in nx.edge_bfs(G_revertido, L):                       # BFS da linha 12 + For da linha 13\n",
    "    peso = G_revertido.get_edge_data(i[0], i[1])[\"weight\"]\n",
    "    # Soma o próximo com o anterior\n",
    "    soma = tempo_de_volta[i[0]] - peso                      # W = tempo_de_volta[U] - w(U, W)\n",
    "    tempo_de_volta[i[1]] = min(soma, tempo_de_volta[i[1]]) \n",
    "    print(f\"({vertices[i[0]]} -> {vertices[i[1]]}) = {peso}\\tSoma = {soma}\")\n",
    "\n",
    "print(\"\\n === Tempos de Volta === \")\n",
    "for v in vertices:\n",
    "    print(f\"{vertices[v]} = {tempo_de_volta[v]}\")"
   ]
  },
  {
   "cell_type": "markdown",
   "id": "0a4e60d6-f626-4c50-931e-cd175f6603dd",
   "metadata": {},
   "source": [
    "Agora, com esses dados, vamos calcular as respectivas folgas, dadas pela fórmula abaixo\n",
    "$$folga = \\textit{tempo\\_de\\_volta}[V] - \\textit{tempo\\_de\\_ida}[V] (\\forall V \\in G)$$"
   ]
  },
  {
   "cell_type": "code",
   "execution_count": 49,
   "id": "52888896-90a9-4592-a10d-41f46ef87ab5",
   "metadata": {
    "slideshow": {
     "slide_type": ""
    },
    "tags": []
   },
   "outputs": [
    {
     "name": "stdout",
     "output_type": "stream",
     "text": [
      "Folga de S = 0 \n",
      "Folga de A = 2 \n",
      "Folga de B = 29 \n",
      "Folga de C = 0 \n",
      "Folga de D = 0 \n",
      "Folga de E = 0 \n",
      "Folga de F = 3 \n",
      "Folga de G = 0 \n",
      "Folga de H = 0 \n",
      "Folga de I = 3 \n",
      "Folga de J = 0 \n",
      "Folga de K = 0 \n",
      "Folga de L = 0 \n",
      "{'S': 0, 'A': 2, 'B': 29, 'C': 0, 'D': 0, 'E': 0, 'F': 3, 'G': 0, 'H': 0, 'I': 3, 'J': 0, 'K': 0, 'L': 0}\n"
     ]
    }
   ],
   "source": [
    "folgas = {}\n",
    "for v in vertices:\n",
    "    folgas[vertices[v]] = tempo_de_volta[v] - tempo_de_ida[v]\n",
    "    print(f\"Folga de {vertices[v]} = {tempo_de_volta[v] - tempo_de_ida[v]} \")\n",
    "print(folgas)"
   ]
  },
  {
   "cell_type": "markdown",
   "id": "ee417a18-20cf-40cd-8910-724c7b9d1a1d",
   "metadata": {},
   "source": [
    "## Resultados\n",
    "Com isso, encontramos todos os vértices e suas respectivas folgas, representadas pela tabela abaixo:\n"
   ]
  },
  {
   "cell_type": "code",
   "execution_count": 50,
   "id": "a44d6347-b65f-4263-9ef9-f779839e5a61",
   "metadata": {},
   "outputs": [
    {
     "data": {
      "text/html": [
       "<div>\n",
       "<style scoped>\n",
       "    .dataframe tbody tr th:only-of-type {\n",
       "        vertical-align: middle;\n",
       "    }\n",
       "\n",
       "    .dataframe tbody tr th {\n",
       "        vertical-align: top;\n",
       "    }\n",
       "\n",
       "    .dataframe thead th {\n",
       "        text-align: right;\n",
       "    }\n",
       "</style>\n",
       "<table border=\"1\" class=\"dataframe\">\n",
       "  <thead>\n",
       "    <tr style=\"text-align: right;\">\n",
       "      <th></th>\n",
       "      <th>Vértice</th>\n",
       "      <th>Folga</th>\n",
       "    </tr>\n",
       "  </thead>\n",
       "  <tbody>\n",
       "    <tr>\n",
       "      <th>0</th>\n",
       "      <td>S</td>\n",
       "      <td>0</td>\n",
       "    </tr>\n",
       "    <tr>\n",
       "      <th>1</th>\n",
       "      <td>A</td>\n",
       "      <td>2</td>\n",
       "    </tr>\n",
       "    <tr>\n",
       "      <th>2</th>\n",
       "      <td>B</td>\n",
       "      <td>29</td>\n",
       "    </tr>\n",
       "    <tr>\n",
       "      <th>3</th>\n",
       "      <td>C</td>\n",
       "      <td>0</td>\n",
       "    </tr>\n",
       "    <tr>\n",
       "      <th>4</th>\n",
       "      <td>D</td>\n",
       "      <td>0</td>\n",
       "    </tr>\n",
       "    <tr>\n",
       "      <th>5</th>\n",
       "      <td>E</td>\n",
       "      <td>0</td>\n",
       "    </tr>\n",
       "    <tr>\n",
       "      <th>6</th>\n",
       "      <td>F</td>\n",
       "      <td>3</td>\n",
       "    </tr>\n",
       "    <tr>\n",
       "      <th>7</th>\n",
       "      <td>G</td>\n",
       "      <td>0</td>\n",
       "    </tr>\n",
       "    <tr>\n",
       "      <th>8</th>\n",
       "      <td>H</td>\n",
       "      <td>0</td>\n",
       "    </tr>\n",
       "    <tr>\n",
       "      <th>9</th>\n",
       "      <td>I</td>\n",
       "      <td>3</td>\n",
       "    </tr>\n",
       "    <tr>\n",
       "      <th>10</th>\n",
       "      <td>J</td>\n",
       "      <td>0</td>\n",
       "    </tr>\n",
       "    <tr>\n",
       "      <th>11</th>\n",
       "      <td>K</td>\n",
       "      <td>0</td>\n",
       "    </tr>\n",
       "    <tr>\n",
       "      <th>12</th>\n",
       "      <td>L</td>\n",
       "      <td>0</td>\n",
       "    </tr>\n",
       "  </tbody>\n",
       "</table>\n",
       "</div>"
      ],
      "text/plain": [
       "   Vértice  Folga\n",
       "0        S      0\n",
       "1        A      2\n",
       "2        B     29\n",
       "3        C      0\n",
       "4        D      0\n",
       "5        E      0\n",
       "6        F      3\n",
       "7        G      0\n",
       "8        H      0\n",
       "9        I      3\n",
       "10       J      0\n",
       "11       K      0\n",
       "12       L      0"
      ]
     },
     "execution_count": 50,
     "metadata": {},
     "output_type": "execute_result"
    }
   ],
   "source": [
    "import pandas as pd\n",
    "folgas.items()\n",
    "pd.DataFrame(list(folgas.items()), columns=[\"Vértice\", \"Folga\"])"
   ]
  },
  {
   "cell_type": "code",
   "execution_count": null,
   "id": "72107d75",
   "metadata": {},
   "outputs": [],
   "source": []
  }
 ],
 "metadata": {
  "kernelspec": {
   "display_name": "Python 3 (ipykernel)",
   "language": "python",
   "name": "python3"
  },
  "language_info": {
   "codemirror_mode": {
    "name": "ipython",
    "version": 3
   },
   "file_extension": ".py",
   "mimetype": "text/x-python",
   "name": "python",
   "nbconvert_exporter": "python",
   "pygments_lexer": "ipython3",
   "version": "3.11.5"
  }
 },
 "nbformat": 4,
 "nbformat_minor": 5
}
