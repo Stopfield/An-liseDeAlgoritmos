{
 "cells": [
  {
   "cell_type": "markdown",
   "id": "16cce128-6295-4b13-a07b-8429b6300ac3",
   "metadata": {},
   "source": [
    "# Problema 1 -- Grande Polônia\n",
    "Foram utilizados o **Algoritmo de Dijkstra** e a estrutura de **Fila de Prioridades Min-Heap** para solucionar o problema. Para cada $\\alpha_i$, calculou-se o seu caminho para cada $\\beta_i$ utilizando o **Algoritmo de Caminho Mínimo de Dijkstra**. Foram colocados todas as informações em um **Min-Heap**, o qual utilizou como chave **peso total da viagem**. Veja como foi realizado em Python."
   ]
  },
  {
   "cell_type": "code",
   "execution_count": 66,
   "id": "c67cadc8-2495-4e4a-b3d6-62e7b4036105",
   "metadata": {},
   "outputs": [],
   "source": [
    "import networkx as nx\n",
    "import heapq\n",
    "\n",
    "# Estrutura a ser usada no Heap\n",
    "class Item:\n",
    "    def __init__(self, peso_total: int, where: int, to: int, path: list):\n",
    "        self.peso_total = peso_total    # Peso total do caminho\n",
    "        self.where = where              # De qual alfa sai\n",
    "        self.to = to                    # Para qual beta vai\n",
    "        self.path = path                # Caminho a seguir\n",
    "    def __lt__(self, other):\n",
    "        return self.peso_total < other.peso_total\n",
    "    def __repr__(self):\n",
    "        return f\"Peso Total: {self.peso_total} - Alfa {self.where + 1} to Beta {self.to - 4}\""
   ]
  },
  {
   "cell_type": "code",
   "execution_count": 67,
   "id": "4b0183f8-7eee-4eec-b266-f3f6693fcb9e",
   "metadata": {},
   "outputs": [],
   "source": [
    "# Enumeração Primitiva\n",
    "alfa_1     = 0\n",
    "alfa_2     = 1\n",
    "alfa_3     = 2\n",
    "intermed_1 = 3\n",
    "intermed_2 = 4\n",
    "beta_1     = 5\n",
    "beta_2     = 6\n",
    "beta_3     = 7"
   ]
  },
  {
   "cell_type": "code",
   "execution_count": 68,
   "id": "b75fc104-fb1e-4ee6-a384-8249d6130bd9",
   "metadata": {},
   "outputs": [],
   "source": [
    "# Criando nosso grafo ponderado\n",
    "G = nx.Graph()\n",
    "G.add_edges_from(\n",
    "    [\n",
    "        (alfa_1, intermed_1,     {\"weight\": 1}),\n",
    "        (alfa_1, intermed_2,     {\"weight\": 3}),\n",
    "        (alfa_2, intermed_1,     {\"weight\": 2}),\n",
    "        (alfa_2, intermed_2,     {\"weight\": 3}),\n",
    "        (alfa_3, intermed_2,     {\"weight\": 1}),\n",
    "        (alfa_3, beta_3,         {\"weight\": 4}),\n",
    "        (intermed_1, beta_1,     {\"weight\": 2}),\n",
    "        (intermed_1, beta_2,     {\"weight\": 4}),\n",
    "        (intermed_1, intermed_2, {\"weight\": 1}),\n",
    "        (intermed_2, beta_1,     {\"weight\": 3}),\n",
    "        (intermed_2, beta_2,     {\"weight\": 5}),\n",
    "        (intermed_2, beta_3,     {\"weight\": 2}),\n",
    "    ]\n",
    ")"
   ]
  },
  {
   "cell_type": "code",
   "execution_count": 69,
   "id": "d680d315-b2b0-48e1-9dcb-9df07900bfec",
   "metadata": {},
   "outputs": [],
   "source": [
    "# Dijkstra para cada fonte Alfa\n",
    "path_alphas = [\n",
    "    nx.single_source_dijkstra(G, alfa_1),\n",
    "    nx.single_source_dijkstra(G, alfa_2),\n",
    "    nx.single_source_dijkstra(G, alfa_3)\n",
    "]"
   ]
  },
  {
   "cell_type": "code",
   "execution_count": 70,
   "id": "f0490f45-1edc-4a17-834e-f61480c3b9ab",
   "metadata": {},
   "outputs": [],
   "source": [
    "# Encontrando os caminhos mínimos entre cada alfa e beta\n",
    "# NÃO PODEMOS DESCARTAR NENHUM CAMINHO!\n",
    "# Isso porque o menor caminho para alfa_2 é até beta_1, o que tornaria beta_2\n",
    "# desprotegido\n",
    "alphas = [alfa_1, alfa_2, alfa_3]\n",
    "betas = [beta_1, beta_2, beta_3]\n",
    "todos_caminhos = []\n",
    "for alpha in alphas:\n",
    "    for beta in betas:\n",
    "        todos_caminhos.append(\n",
    "            Item(path_alphas[alpha][0][beta], alpha, beta, path_alphas[alpha][1][beta])\n",
    "        )\n",
    "heapq.heapify( todos_caminhos )"
   ]
  },
  {
   "cell_type": "markdown",
   "id": "d8e1a7a5-ee39-4e6b-bf51-1b8c7d8b27e6",
   "metadata": {},
   "source": [
    "# Próximo Passo\n",
    "Com as rotas definidas, precisamos manejar as tropas adequadamente. $\\alpha_i$ não pode ter menos que $0$ tropas, assim como $\\beta_i$ tem um limite especificado. Estes são os limites:\n",
    "$$\\beta_1 \\rightarrow 2 \\textit{ divisões} $$\n",
    "$$\\beta_2 \\rightarrow 1 \\textit{ divisão} $$\n",
    "$$\\beta_3 \\rightarrow 1 \\textit{ divisão}$$\n",
    "\n",
    "A partir disso, vamos usar arrays para verificar o *status* de cada vértice (quantas tropas estão lá) e o *limite* de cada vértices."
   ]
  },
  {
   "cell_type": "code",
   "execution_count": 71,
   "id": "20b5914e-f4ef-48b6-aa4f-b0ab7a57f98f",
   "metadata": {},
   "outputs": [],
   "source": [
    "status  = [ 2,  2,  1,  -1, -1, 0, 0, 0]   # -1 são inválidos - são os vértices intermediários\n",
    "limites = [-1, -1, -1 , -1, -1, 2, 1, 1]   # -1 são inválidos - são os vértices intermediários e alfas"
   ]
  },
  {
   "cell_type": "code",
   "execution_count": 72,
   "id": "d72e16b4-b37a-4b06-9edb-559f9941d53b",
   "metadata": {},
   "outputs": [
    {
     "name": "stdout",
     "output_type": "stream",
     "text": [
      "==================================\n",
      "Alpha 3 -> Beta 3\n",
      "Status[Alpha 3] = 1\n",
      "Status[Beta 3] = 0\t Limite 1\n",
      "Máximo que dá pra enviar: 1 \n"
     ]
    },
    {
     "name": "stdin",
     "output_type": "stream",
     "text": [
      " \n"
     ]
    },
    {
     "name": "stdout",
     "output_type": "stream",
     "text": [
      "Envia o máximo que beta aceita!\n",
      "Alpha 3 envia 1 para Beta 3\n",
      "==================================\n",
      "Alpha 1 -> Beta 1\n",
      "Status[Alpha 1] = 2\n",
      "Status[Beta 1] = 0\t Limite 2\n",
      "Máximo que dá pra enviar: 2 \n"
     ]
    },
    {
     "name": "stdin",
     "output_type": "stream",
     "text": [
      " \n"
     ]
    },
    {
     "name": "stdout",
     "output_type": "stream",
     "text": [
      "Envia o máximo que beta aceita!\n",
      "Alpha 1 envia 2 para Beta 1\n",
      "==================================\n",
      "Alpha 3 -> Beta 1\n",
      "Status[Alpha 3] = 0\n",
      "Status[Beta 1] = 2\t Limite 2\n",
      "Máximo que dá pra enviar: 0 \n"
     ]
    },
    {
     "name": "stdin",
     "output_type": "stream",
     "text": [
      " \n"
     ]
    },
    {
     "name": "stdout",
     "output_type": "stream",
     "text": [
      "==================================\n",
      "Alpha 1 -> Beta 3\n",
      "Status[Alpha 1] = 0\n",
      "Status[Beta 3] = 1\t Limite 1\n",
      "Máximo que dá pra enviar: 0 \n"
     ]
    },
    {
     "name": "stdin",
     "output_type": "stream",
     "text": [
      " \n"
     ]
    },
    {
     "name": "stdout",
     "output_type": "stream",
     "text": [
      "==================================\n",
      "Alpha 2 -> Beta 1\n",
      "Status[Alpha 2] = 2\n",
      "Status[Beta 1] = 2\t Limite 2\n",
      "Máximo que dá pra enviar: 0 \n"
     ]
    },
    {
     "name": "stdin",
     "output_type": "stream",
     "text": [
      " \n"
     ]
    },
    {
     "name": "stdout",
     "output_type": "stream",
     "text": [
      "==================================\n",
      "Alpha 2 -> Beta 3\n",
      "Status[Alpha 2] = 2\n",
      "Status[Beta 3] = 1\t Limite 1\n",
      "Máximo que dá pra enviar: 0 \n"
     ]
    },
    {
     "name": "stdin",
     "output_type": "stream",
     "text": [
      " \n"
     ]
    },
    {
     "name": "stdout",
     "output_type": "stream",
     "text": [
      "==================================\n",
      "Alpha 1 -> Beta 2\n",
      "Status[Alpha 1] = 0\n",
      "Status[Beta 2] = 0\t Limite 1\n",
      "Máximo que dá pra enviar: 1 \n"
     ]
    },
    {
     "name": "stdin",
     "output_type": "stream",
     "text": [
      " \n"
     ]
    },
    {
     "name": "stdout",
     "output_type": "stream",
     "text": [
      "==================================\n",
      "Alpha 3 -> Beta 2\n",
      "Status[Alpha 3] = 0\n",
      "Status[Beta 2] = 0\t Limite 1\n",
      "Máximo que dá pra enviar: 1 \n"
     ]
    },
    {
     "name": "stdin",
     "output_type": "stream",
     "text": [
      " \n"
     ]
    },
    {
     "name": "stdout",
     "output_type": "stream",
     "text": [
      "==================================\n",
      "Alpha 2 -> Beta 2\n",
      "Status[Alpha 2] = 2\n",
      "Status[Beta 2] = 0\t Limite 1\n",
      "Máximo que dá pra enviar: 1 \n"
     ]
    },
    {
     "name": "stdin",
     "output_type": "stream",
     "text": [
      " \n"
     ]
    },
    {
     "name": "stdout",
     "output_type": "stream",
     "text": [
      "Envia o máximo que beta aceita!\n",
      "Alpha 2 envia 1 para Beta 2\n",
      "==================================\n",
      "Caminhos percorridos\n",
      "[([2, 4, 7], 1, 3), ([0, 3, 5], 2, 3), ([1, 3, 6], 1, 6)]\n"
     ]
    }
   ],
   "source": [
    "# Enquanto nosso heap não estiver vazio\n",
    "caminhos_percorridos_e_tropas = []   # Armazena as decisões tomadas pelos generais!\n",
    "while len(todos_caminhos) > 0:\n",
    "    popped_path = heapq.heappop(todos_caminhos)  # Retira o menor do Heap\n",
    "    alpha = popped_path.where\n",
    "    beta  = popped_path.to\n",
    "    max_envio = limites[beta] - status[beta]     # Quanto dá pra enviar para beta\n",
    "    \n",
    "    print(\"==================================\")\n",
    "    print(f\"Alpha {alpha + 1} -> Beta {beta - 4}\")\n",
    "    print(f\"Status[Alpha {alpha + 1}] = {status[alpha]}\")\n",
    "    print(f\"Status[Beta {beta - 4}] = {status[beta]}\\t Limite {limites[beta]}\")\n",
    "    print(f\"Máximo que dá pra enviar: {max_envio} \")\n",
    "    input()\n",
    "\n",
    "    # Se ainda tiver tropas em alpha e dá pra enviar, envia o máximo que dá\n",
    "    if status[alpha] > 0 and max_envio > 0:\n",
    "        # Dois casos\n",
    "        if max_envio > status[alpha]:\n",
    "            # Envia tudo em alpha\n",
    "            print(f\"Envia tudo!\")\n",
    "            print(f\"Alpha {alpha + 1} envia {status[alpha]}\")\n",
    "            tropas_enviadas = status[alpha]\n",
    "            status[beta] += status[alpha]\n",
    "            status[alpha] = 0\n",
    "        else:\n",
    "            # Envia o máximo que beta aceita\n",
    "            print(f\"Envia o máximo que beta aceita!\")\n",
    "            print(f\"Alpha {alpha + 1} envia {max_envio} para Beta {beta - 4}\")\n",
    "            tropas_enviadas = max_envio\n",
    "            status[beta] += max_envio\n",
    "            status[alpha] -= max_envio\n",
    "        caminhos_percorridos_e_tropas.append(\n",
    "            (popped_path.path, tropas_enviadas, popped_path.peso_total)\n",
    "        )\n",
    "print(\"==================================\")\n",
    "print(\"Caminhos percorridos\")\n",
    "print(caminhos_percorridos_e_tropas)"
   ]
  },
  {
   "cell_type": "markdown",
   "id": "c9b9c0bb-0a05-4d61-a153-9f8a112d6186",
   "metadata": {},
   "source": [
    "# A partir disso, temos os caminhos!\n",
    "Indicado pela lista acima que contém tuplas com a seguinte estrutura:\n",
    "( caminho: list, tropas_enviadas: int, peso_total: int)"
   ]
  },
  {
   "cell_type": "code",
   "execution_count": 60,
   "id": "cfa91991-1242-4c5c-ada3-adaca7e8cc32",
   "metadata": {},
   "outputs": [
    {
     "name": "stdout",
     "output_type": "stream",
     "text": [
      "[([2, 4, 7], 1, 3), ([0, 3, 5], 2, 3), ([1, 3, 6], 1, 6)]\n"
     ]
    }
   ],
   "source": [
    "print(caminhos_percorridos_e_tropas)"
   ]
  },
  {
   "cell_type": "code",
   "execution_count": 61,
   "id": "7ef39b99-359f-4c73-8e81-96455f0e9c62",
   "metadata": {},
   "outputs": [
    {
     "name": "stdout",
     "output_type": "stream",
     "text": [
      "Alfa 3 -> Beta 3\tTropas Enviadas = 1\tPeso Total = 3\n",
      "Alfa 1 -> Beta 1\tTropas Enviadas = 2\tPeso Total = 3\n",
      "Alfa 2 -> Beta 2\tTropas Enviadas = 1\tPeso Total = 6\n"
     ]
    }
   ],
   "source": [
    "for i in caminhos_percorridos_e_tropas:\n",
    "    print(f\"Alfa {i[0][0] + 1} -> Beta {i[0][-1] - 4}\\tTropas Enviadas = {i[1]}\\tPeso Total = {i[2]}\")"
   ]
  },
  {
   "cell_type": "code",
   "execution_count": 62,
   "id": "d2af8013-c52a-478c-b76f-15c74ebf8f4c",
   "metadata": {},
   "outputs": [
    {
     "name": "stdout",
     "output_type": "stream",
     "text": [
      "Peso total da missão = 12\n"
     ]
    }
   ],
   "source": [
    "missao_peso_total = 0\n",
    "for i in caminhos_percorridos_e_tropas:\n",
    "    missao_peso_total += i[2]\n",
    "print(f\"Peso total da missão = {missao_peso_total}\")"
   ]
  },
  {
   "cell_type": "code",
   "execution_count": 63,
   "id": "5fe9a2e3-523e-42b9-9459-1ac25c47e058",
   "metadata": {},
   "outputs": [
    {
     "name": "stdout",
     "output_type": "stream",
     "text": [
      "Beta 1: Status = 2\tLimite = 2\tSatisfeito = True\n",
      "Beta 2: Status = 1\tLimite = 1\tSatisfeito = True\n",
      "Beta 3: Status = 1\tLimite = 1\tSatisfeito = True\n"
     ]
    }
   ],
   "source": [
    "# Todos os betas estão satisfeitos?\n",
    "for i in [beta_1, beta_2, beta_3]:\n",
    "    print(f\"Beta {i - 4}: Status = {status[i]}\\tLimite = {limites[i]}\\tSatisfeito = {status[i] == limites[i]}\")"
   ]
  },
  {
   "cell_type": "code",
   "execution_count": 64,
   "id": "ff703a05-4308-4441-9f30-a93da88b0701",
   "metadata": {},
   "outputs": [
    {
     "name": "stdout",
     "output_type": "stream",
     "text": [
      "O regimento extra está em Alfa 2\n"
     ]
    }
   ],
   "source": [
    "# E quanto a alfa - Onde ficou o Regimento extra?\n",
    "regimento_extra = -1\n",
    "for i in [alfa_1, alfa_2, alfa_3]:\n",
    "    if status[i] > 0:\n",
    "        regimento_extra = i\n",
    "if regimento_extra == -1:\n",
    "    print(\"Erro! Não existe regimentos extras!\")\n",
    "else:\n",
    "    print(f\"O regimento extra está em Alfa {regimento_extra + 1}\")"
   ]
  },
  {
   "cell_type": "code",
   "execution_count": null,
   "id": "5fccfd5f-b372-4029-a420-1210f4a5c45c",
   "metadata": {},
   "outputs": [],
   "source": []
  },
  {
   "cell_type": "code",
   "execution_count": null,
   "id": "c5ee4390-4dfa-41dc-ab62-06b0d950a1aa",
   "metadata": {},
   "outputs": [],
   "source": []
  }
 ],
 "metadata": {
  "kernelspec": {
   "display_name": "Python 3 (ipykernel)",
   "language": "python",
   "name": "python3"
  },
  "language_info": {
   "codemirror_mode": {
    "name": "ipython",
    "version": 3
   },
   "file_extension": ".py",
   "mimetype": "text/x-python",
   "name": "python",
   "nbconvert_exporter": "python",
   "pygments_lexer": "ipython3",
   "version": "3.10.12"
  }
 },
 "nbformat": 4,
 "nbformat_minor": 5
}
